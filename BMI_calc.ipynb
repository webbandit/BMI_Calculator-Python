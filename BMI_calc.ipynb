{
 "cells": [
  {
   "cell_type": "markdown",
   "metadata": {},
   "source": [
    "BMI Calculator"
   ]
  },
  {
   "cell_type": "markdown",
   "metadata": {},
   "source": [
    "#BMI = (weight in kilos) / (height in cm x height in cm)"
   ]
  },
  {
   "cell_type": "code",
   "execution_count": 20,
   "metadata": {},
   "outputs": [
    {
     "name": "stdout",
     "output_type": "stream",
     "text": [
      "27.70083102493075\n"
     ]
    }
   ],
   "source": [
    "name = input('Enter your name: ')\n",
    "weight = int(input(\"Enter your weight in kg: \"))\n",
    "height = float(input(\"Enter your height in m: \"))\n",
    "BMI = (weight) / (height * height)\n",
    "print(BMI)"
   ]
  },
  {
   "cell_type": "markdown",
   "metadata": {},
   "source": [
    "##BMI\n",
    "\n",
    "unter 18,5 = underweight\n",
    "18,5 - 24 = normalweight\n",
    "25 - 29 = overwegiht\n",
    "30 - 35 = extremly overweight\n"
   ]
  },
  {
   "cell_type": "code",
   "execution_count": 21,
   "metadata": {},
   "outputs": [
    {
     "name": "stdout",
     "output_type": "stream",
     "text": [
      "Peter, you are overweight! You need to exercise more.\n"
     ]
    }
   ],
   "source": [
    "if BMI > 0:\n",
    "    if(BMI<18.5):\n",
    "        print(name + ', you are underweight!')\n",
    "    elif(BMI<=24):\n",
    "        print(name + ', you are normalweight!')\n",
    "    elif(BMI<=29):\n",
    "        print(name + ', you are overweight! You need to exercise more.')\n",
    "    elif(BMI<=35):\n",
    "        print(name + ', you are dangerously overweight! Please consult wih a doctor.')\n",
    "    \n",
    "    else:\n",
    "        print(name + ', you are extremely overweight! Please consult wih a doctor.')\n",
    "else:\n",
    "    print('Enter valid input!')"
   ]
  }
 ],
 "metadata": {
  "kernelspec": {
   "display_name": "base",
   "language": "python",
   "name": "python3"
  },
  "language_info": {
   "codemirror_mode": {
    "name": "ipython",
    "version": 3
   },
   "file_extension": ".py",
   "mimetype": "text/x-python",
   "name": "python",
   "nbconvert_exporter": "python",
   "pygments_lexer": "ipython3",
   "version": "3.12.2"
  }
 },
 "nbformat": 4,
 "nbformat_minor": 2
}
